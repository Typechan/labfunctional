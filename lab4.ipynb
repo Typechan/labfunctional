{
 "cells": [
  {
   "cell_type": "code",
   "execution_count": 3,
   "id": "3378b6c7",
   "metadata": {},
   "outputs": [
    {
     "name": "stdout",
     "output_type": "stream",
     "text": [
      "satbayev university\n",
      "SATBAYEV UNIVERSITY\n",
      "2\n",
      "13\n",
      "True\n",
      "['Satbayev', 'University']\n",
      "Satbekov University\n",
      "Satbayev University was founded in 1934\n",
      " Satbayev University \n"
     ]
    }
   ],
   "source": [
    "str = \"Satbayev University\"\n",
    "print(str.lower())\n",
    "print(str.upper())\n",
    "print(str.lower().count(\"a\"))\n",
    "print(str.index(\"er\"))\n",
    "print(str.lower().islower())\n",
    "print(str.split(\" \"))\n",
    "print(str.replace(\"ayev\", \"ekov\"))\n",
    "print(str+\" {0} {1}\".format(\"was founded in\",1934))\n",
    "print(str.center(len(str)+2))"
   ]
  },
  {
   "cell_type": "code",
   "execution_count": 7,
   "id": "04d97676",
   "metadata": {},
   "outputs": [
    {
     "name": "stdout",
     "output_type": "stream",
     "text": [
      "+ для добавления---- list распечатать ----- break остановить программу\n",
      "+rakhat\n",
      "+ для добавления---- list распечатать ----- break остановить программу\n",
      "5\n",
      "+ для добавления---- list распечатать ----- break остановить программу\n",
      "+\n",
      "ФИО:\n",
      "ruslan\n",
      "Класс\n",
      "4\n",
      "+ для добавления---- list распечатать ----- break остановить программу\n",
      "list\n",
      "------Список учащихся------\n"
     ]
    },
    {
     "ename": "TypeError",
     "evalue": "'Student' object is not subscriptable",
     "output_type": "error",
     "traceback": [
      "\u001b[1;31m---------------------------------------------------------------------------\u001b[0m",
      "\u001b[1;31mTypeError\u001b[0m                                 Traceback (most recent call last)",
      "Cell \u001b[1;32mIn [7], line 23\u001b[0m\n\u001b[0;32m     21\u001b[0m \u001b[38;5;28;01melif\u001b[39;00m(cmd\u001b[38;5;241m==\u001b[39m\u001b[38;5;124m\"\u001b[39m\u001b[38;5;124mlist\u001b[39m\u001b[38;5;124m\"\u001b[39m):\n\u001b[0;32m     22\u001b[0m     \u001b[38;5;28mprint\u001b[39m(\u001b[38;5;124m\"\u001b[39m\u001b[38;5;124m------Список учащихся------\u001b[39m\u001b[38;5;124m\"\u001b[39m)\n\u001b[1;32m---> 23\u001b[0m     \u001b[43mstudentList\u001b[49m\u001b[38;5;241;43m.\u001b[39;49m\u001b[43msort\u001b[49m\u001b[43m(\u001b[49m\u001b[43mkey\u001b[49m\u001b[43m \u001b[49m\u001b[38;5;241;43m=\u001b[39;49m\u001b[43m \u001b[49m\u001b[38;5;28;43;01mlambda\u001b[39;49;00m\u001b[43m \u001b[49m\u001b[43mitem\u001b[49m\u001b[43m:\u001b[49m\u001b[43m \u001b[49m\u001b[43mitem\u001b[49m\u001b[43m[\u001b[49m\u001b[38;5;241;43m1\u001b[39;49m\u001b[43m]\u001b[49m\u001b[43m)\u001b[49m\n\u001b[0;32m     24\u001b[0m     \u001b[38;5;28;01mfor\u001b[39;00m student \u001b[38;5;129;01min\u001b[39;00m studentList:\n\u001b[0;32m     25\u001b[0m         \u001b[38;5;28mprint\u001b[39m(student)\n",
      "Cell \u001b[1;32mIn [7], line 23\u001b[0m, in \u001b[0;36m<lambda>\u001b[1;34m(item)\u001b[0m\n\u001b[0;32m     21\u001b[0m \u001b[38;5;28;01melif\u001b[39;00m(cmd\u001b[38;5;241m==\u001b[39m\u001b[38;5;124m\"\u001b[39m\u001b[38;5;124mlist\u001b[39m\u001b[38;5;124m\"\u001b[39m):\n\u001b[0;32m     22\u001b[0m     \u001b[38;5;28mprint\u001b[39m(\u001b[38;5;124m\"\u001b[39m\u001b[38;5;124m------Список учащихся------\u001b[39m\u001b[38;5;124m\"\u001b[39m)\n\u001b[1;32m---> 23\u001b[0m     studentList\u001b[38;5;241m.\u001b[39msort(key \u001b[38;5;241m=\u001b[39m \u001b[38;5;28;01mlambda\u001b[39;00m item: \u001b[43mitem\u001b[49m\u001b[43m[\u001b[49m\u001b[38;5;241;43m1\u001b[39;49m\u001b[43m]\u001b[49m)\n\u001b[0;32m     24\u001b[0m     \u001b[38;5;28;01mfor\u001b[39;00m student \u001b[38;5;129;01min\u001b[39;00m studentList:\n\u001b[0;32m     25\u001b[0m         \u001b[38;5;28mprint\u001b[39m(student)\n",
      "\u001b[1;31mTypeError\u001b[0m: 'Student' object is not subscriptable"
     ]
    }
   ],
   "source": [
    "class Student:\n",
    "\n",
    "    def __init__(self, fio, cls):\n",
    "        self.fio = fio\n",
    "        self.cls = cls\n",
    "    def __str__(self):\n",
    "        return \"ФИО: \"+ self.fio +\" Класс: \"+ self.cls\n",
    "    \n",
    "studentList = []\n",
    "\n",
    "while True:\n",
    "    print(\"+ для добавления---- list распечатать ----- break остановить программу\")\n",
    "    cmd = input()\n",
    "    if(cmd==\"+\"):\n",
    "        print(\"ФИО:\")\n",
    "        fio = input()\n",
    "        print(\"Класс\")\n",
    "        cls = input()\n",
    "        st = Student(fio, cls)\n",
    "        studentList.append(st)\n",
    "    elif(cmd==\"list\"):\n",
    "        print(\"------Список учащихся------\")\n",
    "        studentList.sort(key = lambda item: item[1])\n",
    "        for student in studentList:\n",
    "            print(student)\n",
    "            print(\"------\")\n",
    "    elif(cmd==\"break\"):\n",
    "        print(\"Завершение программы.\")\n",
    "        break"
   ]
  },
  {
   "cell_type": "code",
   "execution_count": null,
   "id": "1b7c5cb3",
   "metadata": {},
   "outputs": [],
   "source": []
  },
  {
   "cell_type": "code",
   "execution_count": null,
   "id": "b2ad38b3",
   "metadata": {},
   "outputs": [
    {
     "name": "stdout",
     "output_type": "stream",
     "text": [
      "Enter the first number: \n",
      "huh\n",
      "Enter the second number: \n",
      "huh\n",
      "Enter the first number: \n"
     ]
    }
   ],
   "source": [
    "str1 = \"\"\n",
    "str2 = \"\"\n",
    "while((not str1.isdigit()) or (not str2.isdigit())):\n",
    "    print(\"Enter the first number: \")\n",
    "    str1 = input()\n",
    "    print(\"Enter the second number: \")\n",
    "    str2 = input()\n",
    "    \n",
    "print(int(str1)+int(str2))"
   ]
  },
  {
   "cell_type": "code",
   "execution_count": 8,
   "id": "d32e4269",
   "metadata": {},
   "outputs": [
    {
     "name": "stdout",
     "output_type": "stream",
     "text": [
      "Rakhat Alishev\n",
      "rakhat alishev\n"
     ]
    }
   ],
   "source": [
    "str1 = input()\n",
    "ucount = 0\n",
    "lcount = 0\n",
    "for s in str1:\n",
    "    if(s.isupper()):\n",
    "        ucount+=1\n",
    "    if(s.islower()):\n",
    "        lcount+=1\n",
    "        \n",
    "if(ucount<=lcount):\n",
    "    str1 = str1.lower()\n",
    "else:\n",
    "    str1 = str1.upper()\n",
    "    \n",
    "print(str1)"
   ]
  },
  {
   "cell_type": "code",
   "execution_count": null,
   "id": "3a7d1cfe",
   "metadata": {},
   "outputs": [],
   "source": []
  }
 ],
 "metadata": {
  "kernelspec": {
   "display_name": "Python 3 (ipykernel)",
   "language": "python",
   "name": "python3"
  },
  "language_info": {
   "codemirror_mode": {
    "name": "ipython",
    "version": 3
   },
   "file_extension": ".py",
   "mimetype": "text/x-python",
   "name": "python",
   "nbconvert_exporter": "python",
   "pygments_lexer": "ipython3",
   "version": "3.10.5"
  }
 },
 "nbformat": 4,
 "nbformat_minor": 5
}
